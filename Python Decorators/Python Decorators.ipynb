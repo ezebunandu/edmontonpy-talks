{
 "cells": [
  {
   "cell_type": "markdown",
   "metadata": {
    "slideshow": {
     "slide_type": "slide"
    }
   },
   "source": [
    "<h1 align='center'> Introduction to Python Decorators </h1>"
   ]
  },
  {
   "cell_type": "markdown",
   "metadata": {
    "slideshow": {
     "slide_type": "slide"
    }
   },
   "source": [
    "### Why Decorators?\n",
    "\n",
    "* Decorators allow you to extend and modify the behavior of a callable (functions, methods, and classes)\n",
    "* Do so, without modifying the callable itself"
   ]
  },
  {
   "cell_type": "markdown",
   "metadata": {
    "slideshow": {
     "slide_type": "slide"
    }
   },
   "source": [
    "### Use Case for decorators\n",
    "\n",
    "* logging\n",
    "* enforcing access control and authentication\n",
    "* instrumentation and timing functions\n",
    "* rate-limiting\n",
    "* caching, \n",
    "\n",
    "e.g. `%timeit` in Ipython is a decorator under the hood!"
   ]
  },
  {
   "cell_type": "markdown",
   "metadata": {
    "slideshow": {
     "slide_type": "slide"
    }
   },
   "source": [
    "### But first, a few things to remember...\n",
    "\n",
    "* Everything in Python is an object...including functions, classes, etc\n",
    "* Python functions are first-class objects"
   ]
  },
  {
   "cell_type": "markdown",
   "metadata": {
    "slideshow": {
     "slide_type": "notes"
    }
   },
   "source": [
    "- Names that we define are simply identifiers that point to objects. That means that various names can be bound to the same object"
   ]
  },
  {
   "cell_type": "markdown",
   "metadata": {
    "slideshow": {
     "slide_type": "slide"
    }
   },
   "source": [
    "### What does it mean for functions to be first-class objects?\n",
    "\n",
    "* They can be assigned to variables, passed to, and returned from other functions\n",
    "* Functions can be defined inside other functions"
   ]
  },
  {
   "cell_type": "code",
   "execution_count": 1,
   "metadata": {
    "slideshow": {
     "slide_type": "slide"
    }
   },
   "outputs": [
    {
     "data": {
      "text/plain": [
       "'Hello World!'"
      ]
     },
     "execution_count": 1,
     "metadata": {},
     "output_type": "execute_result"
    }
   ],
   "source": [
    "# a function can be assigned to a variable\n",
    "def print_greet():\n",
    "    return \"Hello World!\"\n",
    "\n",
    "say_it = print_greet\n",
    "say_it()"
   ]
  },
  {
   "cell_type": "code",
   "execution_count": 2,
   "metadata": {
    "slideshow": {
     "slide_type": "slide"
    }
   },
   "outputs": [
    {
     "name": "stdout",
     "output_type": "stream",
     "text": [
      "Hello world!\n"
     ]
    }
   ],
   "source": [
    "# a function can return another function\n",
    "def is_called():\n",
    "    def is_returned():\n",
    "        print(\"Hello world!\")\n",
    "    return is_returned\n",
    "\n",
    "new = is_called()\n",
    "\n",
    "new()"
   ]
  },
  {
   "cell_type": "code",
   "execution_count": 3,
   "metadata": {
    "slideshow": {
     "slide_type": "slide"
    }
   },
   "outputs": [
    {
     "name": "stdout",
     "output_type": "stream",
     "text": [
      "I hope this is not too difficult to grok?\n"
     ]
    }
   ],
   "source": [
    "# Functions can be passed to other functions\n",
    "def mind_blowing(func):\n",
    "    check = func(\"I hope this is not too difficult to grok\")\n",
    "    print(check)\n",
    "    \n",
    "def is_question(text):\n",
    "    return text + '?'\n",
    "\n",
    "mind_blowing(is_question)"
   ]
  },
  {
   "cell_type": "markdown",
   "metadata": {
    "slideshow": {
     "slide_type": "slide"
    }
   },
   "source": [
    "* Functions that accept other functions as arguments are called higher-order functions<br></br><br></br>\n",
    "\n",
    "* Examples include map, filter, and reduce"
   ]
  },
  {
   "cell_type": "markdown",
   "metadata": {
    "slideshow": {
     "slide_type": "slide"
    }
   },
   "source": [
    "</h3> References </h3> <br></br>\n",
    "\n",
    "1. Python Tricks - Dan Bader <br></br><br></br>\n",
    "\n",
    "2. https://www.programiz.com/python-programming/decorator <br></br><br></br>\n",
    "\n",
    "3.  Implementing timing decorator manually vs timeit: https://stackoverflow.com/questions/1622943/timeit-versus-timing-decorator<br></br><br></br>"
   ]
  },
  {
   "cell_type": "code",
   "execution_count": null,
   "metadata": {},
   "outputs": [],
   "source": []
  }
 ],
 "metadata": {
  "celltoolbar": "Slideshow",
  "kernelspec": {
   "display_name": "Python 3",
   "language": "python",
   "name": "python3"
  },
  "language_info": {
   "codemirror_mode": {
    "name": "ipython",
    "version": 3
   },
   "file_extension": ".py",
   "mimetype": "text/x-python",
   "name": "python",
   "nbconvert_exporter": "python",
   "pygments_lexer": "ipython3",
   "version": "3.7.3"
  }
 },
 "nbformat": 4,
 "nbformat_minor": 2
}
