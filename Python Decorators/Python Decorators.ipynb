{
 "cells": [
  {
   "cell_type": "markdown",
   "metadata": {
    "slideshow": {
     "slide_type": "slide"
    }
   },
   "source": [
    "<h1 align='center'> Introduction to Python Decorators </h1>"
   ]
  },
  {
   "cell_type": "markdown",
   "metadata": {
    "slideshow": {
     "slide_type": "slide"
    }
   },
   "source": [
    "<img src=\"./images/flask decorator.png\" alt=\"decorator used in flask\">"
   ]
  },
  {
   "cell_type": "markdown",
   "metadata": {
    "slideshow": {
     "slide_type": "slide"
    }
   },
   "source": [
    "<img src=\"./images/standard_lib_decorator.png\" alt=\"stamdard lib decorator\">"
   ]
  },
  {
   "cell_type": "markdown",
   "metadata": {
    "slideshow": {
     "slide_type": "slide"
    }
   },
   "source": [
    "<h2>Decorators are such an important part of Python </h2>"
   ]
  },
  {
   "cell_type": "markdown",
   "metadata": {
    "slideshow": {
     "slide_type": "slide"
    }
   },
   "source": [
    "<img src=\"./images/pep318.png\" alt=\"pep318, decorators for functions and methods\">"
   ]
  },
  {
   "cell_type": "markdown",
   "metadata": {
    "slideshow": {
     "slide_type": "slide"
    }
   },
   "source": [
    "<img src=\"./images/pep3129.png\" alt=\"pep3129, class decorators\">"
   ]
  },
  {
   "cell_type": "markdown",
   "metadata": {
    "slideshow": {
     "slide_type": "slide"
    }
   },
   "source": [
    "### What are Decorators?\n",
    "\n",
    "> Decorators \"decorate\" or \"wrap\" another function and let you execute code before and after the wrapped function runs.\n",
    "\n",
    "> A callable that returns another callable."
   ]
  },
  {
   "cell_type": "markdown",
   "metadata": {
    "slideshow": {
     "slide_type": "slide"
    }
   },
   "source": [
    "### Why Decorators?\n",
    "\n",
    "\n",
    "* Decorators allow you to extend and modify the behavior of a callable (functions, methods, and classes)<br></br><br></br>\n",
    "* Allow you to do so without modifying the callable itself (the callable's behavior changes only when it's decorated)"
   ]
  },
  {
   "cell_type": "markdown",
   "metadata": {
    "slideshow": {
     "slide_type": "slide"
    }
   },
   "source": [
    "### Use Case for decorators \n",
    "* logging\n",
    "* enforcing access control and authentication\n",
    "* instrumentation and timing functions\n",
    "* rate-limiting\n",
    "* caching, \n",
    "\n",
    "e.g. `%timeit` in Ipython is a decorator under the hood!"
   ]
  },
  {
   "cell_type": "markdown",
   "metadata": {
    "slideshow": {
     "slide_type": "slide"
    }
   },
   "source": [
    "### But first, a few things to remember...<br></br>\n",
    "\n",
    "* Everything in Python is an object...including functions, classes, etc <br></br><br></br>\n",
    "* Python functions are first-class objects"
   ]
  },
  {
   "cell_type": "markdown",
   "metadata": {
    "slideshow": {
     "slide_type": "notes"
    }
   },
   "source": [
    "- **Demonstrate this on the chalkboard:** Names that we define are simply identifiers that point to objects. That means that various names can be bound to the same object"
   ]
  },
  {
   "cell_type": "markdown",
   "metadata": {
    "slideshow": {
     "slide_type": "slide"
    }
   },
   "source": [
    "<img src=\"./images/obj_ref_meme.png\" alt=\"re-assign variables meme\">"
   ]
  },
  {
   "cell_type": "markdown",
   "metadata": {
    "slideshow": {
     "slide_type": "slide"
    }
   },
   "source": [
    "### What does it mean for functions to be first-class objects?<br></br>\n",
    "\n",
    "* They can be assigned to variables, passed to, and returned from other functions<br></br><br></br>\n",
    "* Functions can be defined inside other functions"
   ]
  },
  {
   "cell_type": "code",
   "execution_count": 1,
   "metadata": {
    "slideshow": {
     "slide_type": "slide"
    }
   },
   "outputs": [
    {
     "data": {
      "text/plain": [
       "'Hello World!'"
      ]
     },
     "execution_count": 1,
     "metadata": {},
     "output_type": "execute_result"
    }
   ],
   "source": [
    "# a function can be assigned to a variable\n",
    "def print_greet():\n",
    "    return \"Hello World!\"\n",
    "\n",
    "say_it = print_greet\n",
    "say_it()"
   ]
  },
  {
   "cell_type": "code",
   "execution_count": 2,
   "metadata": {
    "slideshow": {
     "slide_type": "slide"
    }
   },
   "outputs": [
    {
     "name": "stdout",
     "output_type": "stream",
     "text": [
      "Hello world!\n"
     ]
    }
   ],
   "source": [
    "# a function can return another function\n",
    "def is_called():\n",
    "    def is_returned():\n",
    "        print(\"Hello world!\")\n",
    "    return is_returned\n",
    "\n",
    "new = is_called()\n",
    "\n",
    "new()"
   ]
  },
  {
   "cell_type": "code",
   "execution_count": 3,
   "metadata": {
    "slideshow": {
     "slide_type": "slide"
    }
   },
   "outputs": [
    {
     "name": "stdout",
     "output_type": "stream",
     "text": [
      "I hope this is not too difficult to grok?\n"
     ]
    }
   ],
   "source": [
    "# Functions can be passed to other functions\n",
    "\n",
    "def mind_blowing(func):\n",
    "    check = func(\"I hope this is not too difficult to grok\")\n",
    "    print(check)\n",
    "    \n",
    "def is_question(text):\n",
    "    return text + '?'\n",
    "\n",
    "mind_blowing(is_question)"
   ]
  },
  {
   "cell_type": "markdown",
   "metadata": {
    "slideshow": {
     "slide_type": "slide"
    }
   },
   "source": [
    "* Functions that accept other functions as arguments are called higher-order functions<br></br><br></br>\n",
    "\n",
    "* Examples include map, filter, and reduce"
   ]
  },
  {
   "cell_type": "markdown",
   "metadata": {
    "slideshow": {
     "slide_type": "slide"
    }
   },
   "source": [
    "<h3> Now back to decorators </h3>\n",
    "\n",
    "#### Let's start with a simple example"
   ]
  },
  {
   "cell_type": "code",
   "execution_count": 4,
   "metadata": {
    "slideshow": {
     "slide_type": "slide"
    }
   },
   "outputs": [
    {
     "data": {
      "text/plain": [
       "'Hello PyEdmonton'"
      ]
     },
     "execution_count": 4,
     "metadata": {},
     "output_type": "execute_result"
    }
   ],
   "source": [
    "def null_decorator(func):\n",
    "    return func\n",
    "\n",
    "def greet():\n",
    "    return \"Hello PyEdmonton\"\n",
    "\n",
    "null_greeting = null_decorator(greet)\n",
    "null_greeting()"
   ]
  },
  {
   "cell_type": "markdown",
   "metadata": {
    "slideshow": {
     "slide_type": "slide"
    }
   },
   "source": [
    "<h3> We could, of course, add some (syntatic) sugar to this: </h3>"
   ]
  },
  {
   "cell_type": "code",
   "execution_count": 5,
   "metadata": {
    "slideshow": {
     "slide_type": "slide"
    }
   },
   "outputs": [
    {
     "data": {
      "text/plain": [
       "'Hello again!'"
      ]
     },
     "execution_count": 5,
     "metadata": {},
     "output_type": "execute_result"
    }
   ],
   "source": [
    "@null_decorator\n",
    "def greet():\n",
    "    return \"Hello again!\"\n",
    "\n",
    "greet()"
   ]
  },
  {
   "cell_type": "markdown",
   "metadata": {
    "slideshow": {
     "slide_type": "notes"
    }
   },
   "source": [
    "This is not a very useful implementation of course, but hopefully has set the tone for what decorators actually do.\n",
    "\n",
    "The con of using the @ syntax is that it becomes difficult to access the undecorated function, so the manual form might be useful sometimes."
   ]
  },
  {
   "cell_type": "markdown",
   "metadata": {
    "slideshow": {
     "slide_type": "slide"
    }
   },
   "source": [
    "<h3> A more useful example...</h3>"
   ]
  },
  {
   "cell_type": "code",
   "execution_count": 6,
   "metadata": {
    "slideshow": {
     "slide_type": "slide"
    }
   },
   "outputs": [
    {
     "data": {
      "text/plain": [
       "<function str.upper()>"
      ]
     },
     "execution_count": 6,
     "metadata": {},
     "output_type": "execute_result"
    }
   ],
   "source": [
    "def uppercase(func):\n",
    "    def wrapper():\n",
    "        original = func()\n",
    "        modified = original.upper\n",
    "        return modified\n",
    "    return wrapper\n",
    "\n",
    "@uppercase\n",
    "def confirm_understanding():\n",
    "    return \"Ok so far?\"\n",
    "\n",
    "confirm_understanding()"
   ]
  },
  {
   "cell_type": "markdown",
   "metadata": {
    "slideshow": {
     "slide_type": "slide"
    }
   },
   "source": [
    "* The wrapper closure has access to the undecorating input function<br></br><br></br>\n",
    "\n",
    "* The wrapper can execute additional code before and after calling the input function"
   ]
  },
  {
   "cell_type": "code",
   "execution_count": 7,
   "metadata": {
    "slideshow": {
     "slide_type": "slide"
    }
   },
   "outputs": [
    {
     "name": "stdout",
     "output_type": "stream",
     "text": [
      "About to decorate the function\n",
      "------------------------------\n",
      "Finished decorating the function; output should be all title case\n"
     ]
    },
    {
     "data": {
      "text/plain": [
       "'Still Good?'"
      ]
     },
     "execution_count": 7,
     "metadata": {},
     "output_type": "execute_result"
    }
   ],
   "source": [
    "def explicit_titlecase(func):\n",
    "    def wrapper():\n",
    "        print(\"About to decorate the function\")\n",
    "        print('------------------------------')\n",
    "        modified = func().title()\n",
    "        print(\"Finished decorating the function; output should be all title case\")\n",
    "        return modified\n",
    "    return wrapper\n",
    "\n",
    "@explicit_titlecase\n",
    "def confirm_understanding():\n",
    "    return \"Still good?\"\n",
    "\n",
    "confirm_understanding()"
   ]
  },
  {
   "cell_type": "markdown",
   "metadata": {
    "slideshow": {
     "slide_type": "slide"
    }
   },
   "source": [
    "<h3> So, this is what we know so far...</h3><br></br>\n",
    "\n",
    "* Decorators modify the behavior of a callable through a wrapper closure<br></br><br></br>\n",
    "\n",
    "* You don't have to permanently modify the original callable to change it's behavior<br></br><br></br>\n",
    "\n",
    "* The behavior of the original callable only changes when it is decorated<br></br><br></br>"
   ]
  },
  {
   "cell_type": "code",
   "execution_count": 8,
   "metadata": {
    "slideshow": {
     "slide_type": "slide"
    }
   },
   "outputs": [
    {
     "data": {
      "text/plain": [
       "'Still good?'"
      ]
     },
     "execution_count": 8,
     "metadata": {},
     "output_type": "execute_result"
    }
   ],
   "source": [
    "def explicit_titlecase(func):\n",
    "    def wrapper():\n",
    "        print(\"About to decorate the function\")\n",
    "        print('------------------------------')\n",
    "        modified = func().title()\n",
    "        print(\"Finished decorating the function; output should be all title case\")\n",
    "        return modified\n",
    "    return wrapper\n",
    "\n",
    "def confirm_understanding():\n",
    "    return \"Still good?\"\n",
    "\n",
    "# can use original callable without the decorator\n",
    "confirm_understanding()"
   ]
  },
  {
   "cell_type": "code",
   "execution_count": 9,
   "metadata": {
    "slideshow": {
     "slide_type": "slide"
    }
   },
   "outputs": [
    {
     "name": "stdout",
     "output_type": "stream",
     "text": [
      "About to decorate the function\n",
      "------------------------------\n",
      "Finished decorating the function; output should be all title case\n"
     ]
    },
    {
     "data": {
      "text/plain": [
       "'Still Good?'"
      ]
     },
     "execution_count": 9,
     "metadata": {},
     "output_type": "execute_result"
    }
   ],
   "source": [
    "# or can decorate the callable to modify it's behavior\n",
    "explicit_titlecase(confirm_understanding)()"
   ]
  },
  {
   "cell_type": "markdown",
   "metadata": {
    "slideshow": {
     "slide_type": "slide"
    }
   },
   "source": [
    "<h3> Applying Multiple Decorators to a Function </h3>"
   ]
  },
  {
   "cell_type": "code",
   "execution_count": 10,
   "metadata": {
    "slideshow": {
     "slide_type": "slide"
    }
   },
   "outputs": [],
   "source": [
    "def div(func):\n",
    "    def wrapper():\n",
    "        return '<div>' + func() + '</div>'\n",
    "    return wrapper\n",
    "\n",
    "def paragraph(func):\n",
    "    def wrapper():\n",
    "        return '<p>' + func() + '</p>'\n",
    "    return wrapper"
   ]
  },
  {
   "cell_type": "code",
   "execution_count": 11,
   "metadata": {
    "slideshow": {
     "slide_type": "slide"
    }
   },
   "outputs": [],
   "source": [
    "@div\n",
    "@paragraph\n",
    "def greet_again():\n",
    "    return \"Hello again!\""
   ]
  },
  {
   "cell_type": "code",
   "execution_count": 12,
   "metadata": {
    "slideshow": {
     "slide_type": "slide"
    }
   },
   "outputs": [
    {
     "data": {
      "text/plain": [
       "'<div><p>Hello again!</p></div>'"
      ]
     },
     "execution_count": 12,
     "metadata": {},
     "output_type": "execute_result"
    }
   ],
   "source": [
    "greet_again()"
   ]
  },
  {
   "cell_type": "code",
   "execution_count": 13,
   "metadata": {
    "slideshow": {
     "slide_type": "slide"
    }
   },
   "outputs": [],
   "source": [
    "@paragraph\n",
    "@div\n",
    "@paragraph\n",
    "def no_more_greet():\n",
    "    return \"This is the last time I'm using greet, I swear!\""
   ]
  },
  {
   "cell_type": "code",
   "execution_count": 14,
   "metadata": {
    "slideshow": {
     "slide_type": "slide"
    }
   },
   "outputs": [
    {
     "data": {
      "text/plain": [
       "\"<p><div><p>This is the last time I'm using greet, I swear!</p></div></p>\""
      ]
     },
     "execution_count": 14,
     "metadata": {},
     "output_type": "execute_result"
    }
   ],
   "source": [
    "no_more_greet()"
   ]
  },
  {
   "cell_type": "markdown",
   "metadata": {
    "slideshow": {
     "slide_type": "slide"
    }
   },
   "source": [
    "<h4> When you apply multiple decorators to a function </h4>\n",
    "\n",
    "* The decorators are applied from bottom to top<br></br><br></br>\n",
    "\n",
    "* Much like building up a stack<br></br><br></br>\n",
    "\n",
    "* A really deep level of decorator stacking might eventually affect performance"
   ]
  },
  {
   "cell_type": "markdown",
   "metadata": {
    "slideshow": {
     "slide_type": "slide"
    }
   },
   "source": [
    "<h3> Decorating Functions That Accept Arguments </h3>\n",
    "\n",
    "> \\*args and \\**kwargs to the rescue!"
   ]
  },
  {
   "cell_type": "code",
   "execution_count": 15,
   "metadata": {
    "slideshow": {
     "slide_type": "slide"
    }
   },
   "outputs": [],
   "source": [
    "def proxy(func):\n",
    "    def wrapper(*args, **kwargs):\n",
    "        return func(*args, **kwargs)\n",
    "    return wrapper"
   ]
  },
  {
   "cell_type": "markdown",
   "metadata": {
    "slideshow": {
     "slide_type": "slide"
    }
   },
   "source": [
    "* \\* and \\** operators in the wrapper closure definition to collection all positional and keyword arguments<br></br><br></br>\n",
    "* Wrapper closure forwards the collected arguments to the original function"
   ]
  },
  {
   "cell_type": "markdown",
   "metadata": {
    "slideshow": {
     "slide_type": "slide"
    }
   },
   "source": [
    "<h3> Now, time for a practical example </h3>\n",
    "\n",
    "* Let's write a trace (logging) decorator that logs function arguments and results during execution"
   ]
  },
  {
   "cell_type": "code",
   "execution_count": 16,
   "metadata": {
    "slideshow": {
     "slide_type": "slide"
    }
   },
   "outputs": [],
   "source": [
    "def trace(func):\n",
    "    def wrapper(*args, **kwargs):\n",
    "        print(f'TRACE: calling {func.__name__}() '\n",
    "             f'with {args}, {kwargs}')\n",
    "        \n",
    "        original = func(*args, **kwargs)\n",
    "        \n",
    "        print(f'TRACE: {func.__name__}() '\n",
    "             f'returned: {original!r}')\n",
    "        return original\n",
    "    return wrapper"
   ]
  },
  {
   "cell_type": "code",
   "execution_count": 17,
   "metadata": {
    "slideshow": {
     "slide_type": "slide"
    }
   },
   "outputs": [],
   "source": [
    "@trace\n",
    "def whodunnit(name, thing, venue, feel):\n",
    "    return f\"{name} {thing} {venue} {feel}\""
   ]
  },
  {
   "cell_type": "code",
   "execution_count": 18,
   "metadata": {
    "slideshow": {
     "slide_type": "slide"
    }
   },
   "outputs": [
    {
     "name": "stdout",
     "output_type": "stream",
     "text": [
      "TRACE: calling whodunnit() with ('I', 'presented on decorators at'), {'venue': 'PyEdmonton', 'feel': 'And it felt great!'}\n",
      "TRACE: whodunnit() returned: 'I presented on decorators at PyEdmonton And it felt great!'\n"
     ]
    },
    {
     "data": {
      "text/plain": [
       "'I presented on decorators at PyEdmonton And it felt great!'"
      ]
     },
     "execution_count": 18,
     "metadata": {},
     "output_type": "execute_result"
    }
   ],
   "source": [
    "whodunnit(\"I\", \"presented on decorators at\", venue=\"PyEdmonton\", feel=\"And it felt great!\")"
   ]
  },
  {
   "cell_type": "markdown",
   "metadata": {
    "slideshow": {
     "slide_type": "slide"
    }
   },
   "source": [
    "<h3>  Debugging Decorated Functions </h3><br></br>\n",
    "\n",
    "* One downside of decorating functions is that it \"hides\" some of the metadata of the original undecorated function\n"
   ]
  },
  {
   "cell_type": "code",
   "execution_count": 19,
   "metadata": {
    "slideshow": {
     "slide_type": "slide"
    }
   },
   "outputs": [],
   "source": [
    "def whodunnit(name, thing, venue, feel):\n",
    "    \"\"\"Docstring goes here\"\"\"\n",
    "    return f\"{name} {thing} {venue} {feel}\"\n",
    "\n",
    "decorated_whodunnit = trace(whodunnit)"
   ]
  },
  {
   "cell_type": "code",
   "execution_count": 20,
   "metadata": {
    "slideshow": {
     "slide_type": "slide"
    }
   },
   "outputs": [
    {
     "name": "stdout",
     "output_type": "stream",
     "text": [
      "whodunnit\n",
      "Docstring goes here\n"
     ]
    }
   ],
   "source": [
    "# metadata for original function is transparent to user\n",
    "print(whodunnit.__name__)\n",
    "print(whodunnit.__doc__)"
   ]
  },
  {
   "cell_type": "code",
   "execution_count": 21,
   "metadata": {
    "slideshow": {
     "slide_type": "slide"
    }
   },
   "outputs": [
    {
     "name": "stdout",
     "output_type": "stream",
     "text": [
      "wrapper\n",
      "None\n"
     ]
    }
   ],
   "source": [
    "# but not so when the function is decorated\n",
    "print(decorated_whodunnit.__name__)\n",
    "print(decorated_whodunnit.__doc__)"
   ]
  },
  {
   "cell_type": "markdown",
   "metadata": {
    "slideshow": {
     "slide_type": "slide"
    }
   },
   "source": [
    "<h4> But do not despair, there is a way...</h4>"
   ]
  },
  {
   "cell_type": "code",
   "execution_count": 22,
   "metadata": {
    "slideshow": {
     "slide_type": "slide"
    }
   },
   "outputs": [],
   "source": [
    "from functools import wraps\n",
    "\n",
    "def trace(func):\n",
    "    @wraps(func)\n",
    "    def wrapper(*args, **kwargs):\n",
    "        print(f'TRACE: calling {func.__name__}() '\n",
    "             f'with {args}, {kwargs}')\n",
    "        \n",
    "        original = func(*args, **kwargs)\n",
    "        \n",
    "        print(f'TRACE: {func.__name__}() '\n",
    "             f'returned: {original!r}')\n",
    "        return original\n",
    "    return wrapper"
   ]
  },
  {
   "cell_type": "code",
   "execution_count": 23,
   "metadata": {
    "slideshow": {
     "slide_type": "slide"
    }
   },
   "outputs": [],
   "source": [
    "@trace\n",
    "def whodunnit(name, thing, venue, feel):\n",
    "    \"\"\"Docstring goes here\"\"\"\n",
    "    return f\"{name} {thing} {venue} {feel}\""
   ]
  },
  {
   "cell_type": "code",
   "execution_count": 24,
   "metadata": {
    "slideshow": {
     "slide_type": "slide"
    }
   },
   "outputs": [
    {
     "name": "stdout",
     "output_type": "stream",
     "text": [
      "whodunnit\n",
      "Docstring goes here\n"
     ]
    }
   ],
   "source": [
    "print(whodunnit.__name__)\n",
    "print(whodunnit.__doc__)"
   ]
  },
  {
   "cell_type": "markdown",
   "metadata": {
    "slideshow": {
     "slide_type": "slide"
    }
   },
   "source": [
    "<h3> Wrap Up </h3>\n",
    "\n",
    "* Knowledge of decorators are an important toolkit in your Python toolbox<br></br><br></br>\n",
    "\n",
    "* Decorators help you modify the behavior of a callable without permanently changing the callable<br></br><br></br>\n",
    "\n",
    "* Used extensively in the standard library and third party-modules<br></br><br></br>\n",
    "\n",
    "* Ongoing proposal to relax grammar restrictions on decorators (PEP 614)<br></br><br></br>\n"
   ]
  },
  {
   "cell_type": "markdown",
   "metadata": {
    "slideshow": {
     "slide_type": "slide"
    }
   },
   "source": [
    "<img src=\"./images/pep614.png\" alt=\"pep for relaxing decorators grammar syntax\">"
   ]
  },
  {
   "cell_type": "markdown",
   "metadata": {
    "slideshow": {
     "slide_type": "slide"
    }
   },
   "source": [
    "<h3> References </h3>\n",
    "\n",
    "1. Python Tricks - Dan Bader, Ch 3.3, The Power of Decorators <br></br><br></br>\n",
    "\n",
    "2. Programiz Article on Decorators: https://www.programiz.com/python-programming/decorator <br></br><br></br>\n",
    "\n",
    "3. Awesome Python Decorators: https://github.com/lord63/awesome-python-decorator<br></br><br></br>\n",
    "\n",
    "4. Real Python Article on Decorators: https://realpython.com/primer-on-python-decorators/"
   ]
  },
  {
   "cell_type": "markdown",
   "metadata": {
    "slideshow": {
     "slide_type": "slide"
    }
   },
   "source": [
    "<h3 align='center'> Slides available on Github </h3>\n",
    "\n",
    "### https://github.com/ezebunandu/edmontonpy-talks"
   ]
  }
 ],
 "metadata": {
  "celltoolbar": "Slideshow",
  "kernelspec": {
   "display_name": "Python 3",
   "language": "python",
   "name": "python3"
  },
  "language_info": {
   "codemirror_mode": {
    "name": "ipython",
    "version": 3
   },
   "file_extension": ".py",
   "mimetype": "text/x-python",
   "name": "python",
   "nbconvert_exporter": "python",
   "pygments_lexer": "ipython3",
   "version": "3.8.1"
  }
 },
 "nbformat": 4,
 "nbformat_minor": 2
}
